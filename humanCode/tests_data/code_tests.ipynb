{
 "cells": [
  {
   "cell_type": "code",
   "execution_count": 5,
   "metadata": {},
   "outputs": [
    {
     "data": {
      "application/vnd.jupyter.widget-view+json": {
       "model_id": "80c64611c4b64f72a3321e3c8aab9d0a",
       "version_major": 2,
       "version_minor": 0
      },
      "text/plain": [
       "Turtle()"
      ]
     },
     "metadata": {},
     "output_type": "display_data"
    },
    {
     "ename": "AttributeError",
     "evalue": "'Turtle' object has no attribute 'goto'",
     "output_type": "error",
     "traceback": [
      "\u001b[0;31m---------------------------------------------------------------------------\u001b[0m",
      "\u001b[0;31mAttributeError\u001b[0m                            Traceback (most recent call last)",
      "\u001b[0;32m/tmp/ipykernel_3576758/1076880662.py\u001b[0m in \u001b[0;36m<module>\u001b[0;34m\u001b[0m\n\u001b[1;32m     24\u001b[0m \u001b[0;31m# draw vertical line\u001b[0m\u001b[0;34m\u001b[0m\u001b[0;34m\u001b[0m\u001b[0m\n\u001b[1;32m     25\u001b[0m \u001b[0mt\u001b[0m\u001b[0;34m.\u001b[0m\u001b[0mpenup\u001b[0m\u001b[0;34m(\u001b[0m\u001b[0;34m)\u001b[0m\u001b[0;34m\u001b[0m\u001b[0;34m\u001b[0m\u001b[0m\n\u001b[0;32m---> 26\u001b[0;31m \u001b[0mt\u001b[0m\u001b[0;34m.\u001b[0m\u001b[0mgoto\u001b[0m\u001b[0;34m(\u001b[0m\u001b[0;36m40\u001b[0m\u001b[0;34m,\u001b[0m \u001b[0;36m0\u001b[0m\u001b[0;34m)\u001b[0m\u001b[0;34m\u001b[0m\u001b[0;34m\u001b[0m\u001b[0m\n\u001b[0m\u001b[1;32m     27\u001b[0m \u001b[0mt\u001b[0m\u001b[0;34m.\u001b[0m\u001b[0mpendown\u001b[0m\u001b[0;34m(\u001b[0m\u001b[0;34m)\u001b[0m\u001b[0;34m\u001b[0m\u001b[0;34m\u001b[0m\u001b[0m\n\u001b[1;32m     28\u001b[0m \u001b[0mt\u001b[0m\u001b[0;34m.\u001b[0m\u001b[0mleft\u001b[0m\u001b[0;34m(\u001b[0m\u001b[0;36m90\u001b[0m\u001b[0;34m)\u001b[0m\u001b[0;34m\u001b[0m\u001b[0;34m\u001b[0m\u001b[0m\n",
      "\u001b[0;31mAttributeError\u001b[0m: 'Turtle' object has no attribute 'goto'"
     ]
    }
   ],
   "source": [
    "# python program for printing \"GFG\"\n",
    "# importing turtle modules\n",
    "from mobilechelonian import Turtle\n",
    "\n",
    "# # setting up workscreen\n",
    "# ws = turtle.Screen()\n",
    "\n",
    "# defining turtle instance\n",
    "t = Turtle()\n",
    "\n",
    "\n",
    "# for printing letter \"G\"\n",
    "for x in range(180):\n",
    "    t.backward(1)\n",
    "    t.left(1)\n",
    "t.right(90)\n",
    "t.forward(50)\n",
    "t.right(90)\n",
    "t.forward(30)\n",
    "t.right(90)\n",
    "t.forward(50)\n",
    "\n",
    "# for printing letter \"P\"\n",
    "# draw vertical line\n",
    "t.penup()\n",
    "t.goto(40, 0)\n",
    "t.pendown()\n",
    "t.left(90)\n",
    "t.forward(200)\n",
    "t.backward(100)\n",
    "t.right(90)\n",
    "t.circle(50, 180)\n",
    "\n",
    "\n",
    "\n",
    "# for printing letter \"G\"\n",
    "for x in range(180):\n",
    "    t.backward(1)\n",
    "    t.left(1)\n",
    "t.right(90)\n",
    "t.forward(50)\n",
    "t.right(90)\n",
    "t.forward(30)\n",
    "t.right(90)\n",
    "t.forward(50)\n",
    "\n",
    "\n",
    "# for printing letter \"P\"\n",
    "t.penup()\n",
    "t.goto(40, 0)\n",
    "t.pendown()\n",
    "t.forward(110)\n",
    "t.goto(40, 0)\n",
    "t.left(90)\n",
    "t.forward(50)\n",
    "t.penup()\n",
    "t.goto(40, -50)\n",
    "t.pendown()\n",
    "t.forward(40)\n",
    "\n",
    "\n",
    "# for printing letter \"G\"\n",
    "t.penup()\n",
    "t.goto(150, 0)\n",
    "t.pendown()\n"
   ]
  }
 ],
 "metadata": {
  "kernelspec": {
   "display_name": "base",
   "language": "python",
   "name": "python3"
  },
  "language_info": {
   "codemirror_mode": {
    "name": "ipython",
    "version": 3
   },
   "file_extension": ".py",
   "mimetype": "text/x-python",
   "name": "python",
   "nbconvert_exporter": "python",
   "pygments_lexer": "ipython3",
   "version": "3.9.13"
  },
  "orig_nbformat": 4
 },
 "nbformat": 4,
 "nbformat_minor": 2
}
